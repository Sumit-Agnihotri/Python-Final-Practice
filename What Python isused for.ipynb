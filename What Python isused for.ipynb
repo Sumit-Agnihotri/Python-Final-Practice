{
 "cells": [
  {
   "cell_type": "markdown",
   "metadata": {},
   "source": [
    "# What is Python?\n",
    "### Python is a popular programming language. It was created by Guido van Rossum, and released in 1991.<br>\n",
    "<br>\n",
    "It is used for:\n",
    "<br><ol>\n",
    "<li>web development (server-side),\n",
    "<li>software development,\n",
    "<li>mathematics,\n",
    "<li>system scripting.\n",
    "</ol>"
   ]
  },
  {
   "cell_type": "markdown",
   "metadata": {},
   "source": [
    "# What can Python do?\n",
    "<ol>\n",
    "<li>Python can be used on a server to create web applications.\n",
    "<li>Python can be used alongside software to create workflows.\n",
    "<li>Python can connect to database systems. It can also read and modify files.\n",
    "<li>Python can be used to handle big data and perform complex mathematics.\n",
    "<li>Python can be used for rapid prototyping, or for production-ready software development.\n",
    "</ol>"
   ]
  },
  {
   "cell_type": "markdown",
   "metadata": {},
   "source": [
    "# Why Python?\n",
    "<ol>\n",
    "<li>Python works on different platforms (Windows, Mac, Linux, Raspberry Pi, etc).\n",
    "<li>Python has a simple syntax similar to the English language.\n",
    "<li>Python has syntax that allows developers to write programs with fewer lines than some other programming languages.\n",
    "<li>Python runs on an interpreter system, meaning that code can be executed as soon as it is written. Prototyping can be very quick.\n",
    "<li>Python can be treated in a procedural way, an object-oriented way or a functional way.\n",
    "</ol>"
   ]
  }
 ],
 "metadata": {
  "language_info": {
   "name": "python"
  }
 },
 "nbformat": 4,
 "nbformat_minor": 2
}
